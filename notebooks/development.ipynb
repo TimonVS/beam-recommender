{
 "cells": [
  {
   "cell_type": "code",
   "execution_count": 1,
   "metadata": {
    "collapsed": true
   },
   "outputs": [],
   "source": [
    "%load_ext autoreload\n",
    "%autoreload 2"
   ]
  },
  {
   "cell_type": "code",
   "execution_count": 2,
   "metadata": {
    "collapsed": true
   },
   "outputs": [],
   "source": [
    "# Change working directory to root of project\n",
    "import os\n",
    "os.chdir('..')"
   ]
  },
  {
   "cell_type": "code",
   "execution_count": 148,
   "metadata": {
    "collapsed": false
   },
   "outputs": [],
   "source": [
    "import os\n",
    "from datetime import datetime\n",
    "import glob\n",
    "\n",
    "from lightfm import LightFM\n",
    "from lightfm.evaluation import auc_score, precision_at_k\n",
    "import pandas as pd\n",
    "import praw\n",
    "import numpy as np\n",
    "from dateutil.relativedelta import relativedelta\n",
    "from pprint import pprint\n",
    "from IPython.display import Image\n",
    "\n",
    "from beam_recommender.recommender import Recommender\n",
    "import beam_recommender.helpers as h\n",
    "import beam_recommender.config as config\n",
    "from beam_recommender.data import BeamInteractions, RedditInteractions"
   ]
  },
  {
   "cell_type": "code",
   "execution_count": 28,
   "metadata": {
    "collapsed": true
   },
   "outputs": [],
   "source": [
    "r = praw.Reddit(client_id=config.REDDIT_CLIENT_ID,\n",
    "                client_secret=config.REDDIT_CLIENT_SECRET,\n",
    "                user_agent=config.REDDIT_USER_AGENT)"
   ]
  },
  {
   "cell_type": "code",
   "execution_count": 45,
   "metadata": {
    "collapsed": false
   },
   "outputs": [],
   "source": [
    "reddit_interactions_df = RedditInteractions.get_interactions()"
   ]
  },
  {
   "cell_type": "code",
   "execution_count": 46,
   "metadata": {
    "collapsed": true
   },
   "outputs": [],
   "source": [
    "beam_interactions_df = BeamInteractions.get_interactions_with_weights()"
   ]
  },
  {
   "cell_type": "code",
   "execution_count": 51,
   "metadata": {
    "collapsed": true
   },
   "outputs": [],
   "source": [
    "del reddit_interactions_df['subreddit']"
   ]
  },
  {
   "cell_type": "code",
   "execution_count": 52,
   "metadata": {
    "collapsed": true
   },
   "outputs": [],
   "source": [
    "reddit_interactions_df['weight'] = 1"
   ]
  },
  {
   "cell_type": "code",
   "execution_count": 56,
   "metadata": {
    "collapsed": false
   },
   "outputs": [],
   "source": [
    "del beam_interactions_df['last_interaction']"
   ]
  },
  {
   "cell_type": "code",
   "execution_count": 57,
   "metadata": {
    "collapsed": true
   },
   "outputs": [],
   "source": [
    "interactions_df = reddit_interactions_df.append(beam_interactions_df, ignore_index=True)"
   ]
  },
  {
   "cell_type": "code",
   "execution_count": 65,
   "metadata": {
    "collapsed": false
   },
   "outputs": [
    {
     "name": "stdout",
     "output_type": "stream",
     "text": [
      "Starting interactions info\n",
      "Number of rows: 4399754\n",
      "Number of cols: 83824\n",
      "Sparsity: 0.006%\n",
      "Ending interactions info\n",
      "Number of rows: 524660\n",
      "Number of columns: 21041\n",
      "Sparsity: 0.101%\n"
     ]
    }
   ],
   "source": [
    "interactions_filtered_df = h.threshold_interactions_df(interactions_df, 'user', 'subreddit_id', 10, 10)"
   ]
  },
  {
   "cell_type": "code",
   "execution_count": 66,
   "metadata": {
    "collapsed": false
   },
   "outputs": [],
   "source": [
    "recommender = Recommender(interactions_filtered_df, dict(num_threads=4))"
   ]
  },
  {
   "cell_type": "code",
   "execution_count": 31,
   "metadata": {
    "collapsed": false
   },
   "outputs": [],
   "source": [
    "recommender.train()"
   ]
  },
  {
   "cell_type": "code",
   "execution_count": 67,
   "metadata": {
    "collapsed": false
   },
   "outputs": [
    {
     "name": "stdout",
     "output_type": "stream",
     "text": [
      "Precision@10 0.121237\n",
      "Recall@10 0.242473220752\n",
      "AUC 0.949625\n",
      "Reciprocal Rank 0.430833\n"
     ]
    }
   ],
   "source": [
    "recommender.evaluate()"
   ]
  },
  {
   "cell_type": "code",
   "execution_count": 160,
   "metadata": {
    "collapsed": false
   },
   "outputs": [
    {
     "data": {
      "text/plain": [
       "[['learnprogramming',\n",
       "  'programming',\n",
       "  'GifRecipes',\n",
       "  'Jokes',\n",
       "  'pcmasterrace',\n",
       "  'cscareerquestions',\n",
       "  'UpliftingNews',\n",
       "  'nottheonion',\n",
       "  'AskDocs',\n",
       "  'The_Donald',\n",
       "  'pokemon',\n",
       "  'Surface',\n",
       "  'Advice',\n",
       "  'olympics',\n",
       "  'FoodPorn',\n",
       "  'personalfinance',\n",
       "  'Baking',\n",
       "  'cringepics',\n",
       "  'ideasfortheadmins',\n",
       "  'InternetIsBeautiful',\n",
       "  'NintendoSwitch',\n",
       "  'gamedev',\n",
       "  'Android',\n",
       "  'grilledcheese',\n",
       "  'space',\n",
       "  'gifsthatendtoosoon',\n",
       "  'TumblrInAction',\n",
       "  'learnjavascript',\n",
       "  'france',\n",
       "  'Cooking',\n",
       "  'linux',\n",
       "  'interestingasfuck',\n",
       "  'django',\n",
       "  'iphone',\n",
       "  'mildlyinfuriating',\n",
       "  'PS4',\n",
       "  'ForeverAlone',\n",
       "  'teenagers',\n",
       "  'pussypassdenied',\n",
       "  'pokemongo']]"
      ]
     },
     "execution_count": 160,
     "metadata": {},
     "output_type": "execute_result"
    }
   ],
   "source": [
    "recommender.recommend(['timonvs'], 40)"
   ]
  },
  {
   "cell_type": "code",
   "execution_count": 159,
   "metadata": {
    "collapsed": false
   },
   "outputs": [],
   "source": [
    "# list(r.info(beam_interactions_df[beam_interactions_df['user'] == 'timonvs'].query('last_interaction > @SINCE_LAST_WEEK')['subreddit_id'].tolist()))"
   ]
  },
  {
   "cell_type": "code",
   "execution_count": 158,
   "metadata": {
    "collapsed": false
   },
   "outputs": [],
   "source": [
    "# ratings_df.apply(lambda x: 2 if (x['last_interaction'] > SINCE_LAST_WEEK and x['count'] > 4) else 1, axis=1)"
   ]
  },
  {
   "cell_type": "code",
   "execution_count": 174,
   "metadata": {
    "collapsed": false,
    "scrolled": false
   },
   "outputs": [
    {
     "name": "stdout",
     "output_type": "stream",
     "text": [
      "Title: Tokyo cinematics [OC]\n",
      "\n",
      "Author: Iamthetophergopher\n",
      "\n",
      "None\n",
      "\n",
      "https://i.redditmedia.com/OFF6LTpP6JxZ4rkuveVt-o7h88O5zjX9ZczWu7NHZ0k.jpg?fit=crop&crop=faces%2Centropy&arh=2&w=1080&s=904e9b285d0dbe1af5ac42305d5c7178\n",
      "\n",
      "https://reddit.com/r/japanpics/comments/5pu7mj/tokyo_cinematics_oc/\n",
      "\n",
      "---\n",
      "\n",
      "Title: Reflecting after the deluge, Osaka [OC]\n",
      "\n",
      "Author: Iamthetophergopher\n",
      "\n",
      "None\n",
      "\n",
      "https://i.redditmedia.com/KWX6F2k8NIr-1owa8upckH5olgGFN0vwNdTlyHtSpXM.jpg?fit=crop&crop=faces%2Centropy&arh=2&w=1080&s=865e19f5e6f43684bcf61620d1bb8f10\n",
      "\n",
      "https://reddit.com/r/japanpics/comments/5pu6ip/reflecting_after_the_deluge_osaka_oc/\n",
      "\n",
      "---\n",
      "\n",
      "Title: Decorative wood carving of dragon on a door in Asakusa. (2520x1873)\n",
      "\n",
      "Author: profbecker\n",
      "\n",
      "None\n",
      "\n",
      "https://i.redditmedia.com/7K6Qo1dFDsjsvUe7zVUDANPtjfDY0kkUPBmUuKe1iKo.jpg?fit=crop&crop=faces%2Centropy&arh=2&w=1080&s=6ec828f29a09859e3278450a1ac1a771\n",
      "\n",
      "https://reddit.com/r/japanpics/comments/5ptwe7/decorative_wood_carving_of_dragon_on_a_door_in/\n",
      "\n",
      "---\n",
      "\n",
      "Title: [OC] Shinjuku Reflections\n",
      "\n",
      "Author: therealjakeg\n",
      "\n",
      "None\n",
      "\n",
      "https://i.redditmedia.com/YqqtyhT4TbQT_AoBl5XmgfZeIeQRItpoaLwWZaIU7lY.jpg?fit=crop&crop=faces%2Centropy&arh=2&w=960&s=189e2cc802e97631db1b363bbef3f944\n",
      "\n",
      "https://reddit.com/r/japanpics/comments/5pt9yo/oc_shinjuku_reflections/\n",
      "\n",
      "---\n",
      "\n",
      "Title: Nikko Futarasan Shrine\n",
      "\n",
      "Author: Plenaire\n",
      "\n",
      "None\n",
      "\n",
      "https://i.redditmedia.com/uZyfcpnrCfwKLbVY-b6__scGjxWx6vFjrZtn5ILS_1Q.jpg?fit=crop&crop=faces%2Centropy&arh=2&w=1080&s=74cf5bdee55e06c1a621aff064b6d16f\n",
      "\n",
      "https://reddit.com/r/japanpics/comments/5pu4zb/nikko_futarasan_shrine/\n",
      "\n",
      "---\n",
      "\n",
      "Title: Kyoto [OC][1500x1000]\n",
      "\n",
      "Author: GoGoGadgetPants\n",
      "\n",
      "None\n",
      "\n",
      "https://i.redditmedia.com/PtVcDU9-swjqMwI1NkhfERrimCEqYqmeyiVWSlme_eU.jpg?fit=crop&crop=faces%2Centropy&arh=2&w=1080&s=9178c0889bd266510ed2e2e6a8740582\n",
      "\n",
      "https://reddit.com/r/japanpics/comments/5pqpjv/kyoto_oc1500x1000/\n",
      "\n",
      "---\n",
      "\n",
      "Title: Ginza, Tokyo\n",
      "\n",
      "Author: acowinjapan\n",
      "\n",
      "None\n",
      "\n",
      "https://i.redditmedia.com/7M0TAFQRZXaJuBxfBpCTcfT8zPIRWV8eGq2ZN-Qp4j0.jpg?fit=crop&crop=faces%2Centropy&arh=2&w=640&s=47cea5f8409006763183dbd6da54d442\n",
      "\n",
      "https://reddit.com/r/japanpics/comments/5pos5g/ginza_tokyo/\n",
      "\n",
      "---\n",
      "\n",
      "Title: Kifune-jinja Shrine (Kyoto, Japan)\n",
      "\n",
      "Author: Japan_Travel_manual\n",
      "\n",
      "None\n",
      "\n",
      "https://i.redditmedia.com/Hp_E2veSYuBI6Xw_A6bKdTttsntNzNDeM3f3asTn6WM.jpg?fit=crop&crop=faces%2Centropy&arh=2&w=1080&s=9420e73be5ce920d1f35a7a6c4504d18\n",
      "\n",
      "https://reddit.com/r/japanpics/comments/5pnzzr/kifunejinja_shrine_kyoto_japan/\n",
      "\n",
      "---\n",
      "\n",
      "Title: A cyberpunk evening in Osaka [OC]\n",
      "\n",
      "Author: Iamthetophergopher\n",
      "\n",
      "None\n",
      "\n",
      "https://i.redditmedia.com/VPCIvrV3J9YMkm_bHWKRND9n3KAQ9NpQy6ulxwWZWtM.jpg?fit=crop&crop=faces%2Centropy&arh=2&w=1080&s=6e3c0cddb5dc138fb29f6d992ad8d928\n",
      "\n",
      "https://reddit.com/r/japanpics/comments/5pu6bg/a_cyberpunk_evening_in_osaka_oc/\n",
      "\n",
      "---\n",
      "\n",
      "Title: Shibuya on a Rainy Night [OC]\n",
      "\n",
      "Author: bwhli\n",
      "\n",
      "None\n",
      "\n",
      "https://i.redditmedia.com/hrHRVP_pefEI4IZSGWWvd89HvbSOe874UThuyMSX7RQ.jpg?fit=crop&crop=faces%2Centropy&arh=2&w=1080&s=fdb3c20e8481269fd747c6b269f4da6d\n",
      "\n",
      "https://reddit.com/r/japanpics/comments/5psvoj/shibuya_on_a_rainy_night_oc/\n",
      "\n",
      "---\n",
      "\n",
      "Title: A wall of sake (Meiji Jingū) [OC][3345x2030]\n",
      "\n",
      "Author: WAPOMATIC\n",
      "\n",
      "None\n",
      "\n",
      "https://i.redditmedia.com/6E2ZM_iI_XhyiEljlEq91kdjmvkgfUYefrwhUH1ZpLM.jpg?fit=crop&crop=faces%2Centropy&arh=2&w=960&s=c8083ae15c440196a69e6be8ce613ee1\n",
      "\n",
      "https://reddit.com/r/japanpics/comments/5pphzs/a_wall_of_sake_meiji_jingū_oc3345x2030/\n",
      "\n",
      "---\n",
      "\n",
      "Title: A view of Gifu from atop a downtown hotel [2048x1365][OC]\n",
      "\n",
      "Author: chrisluckhardt\n",
      "\n",
      "None\n",
      "\n",
      "https://i.redditmedia.com/GWYQU1WeyFk4cTsvV6tt3n6C0ZkN3uuH9wMiRpG7fnM.jpg?fit=crop&crop=faces%2Centropy&arh=2&w=960&s=56facb12f1d62d84f778495725c6e2bf\n",
      "\n",
      "https://reddit.com/r/japanpics/comments/5pos9a/a_view_of_gifu_from_atop_a_downtown_hotel/\n",
      "\n",
      "---\n",
      "\n",
      "Title: My Japan trip - Osaka, Kyoto, Nagoya, Tokyo [OC]\n",
      "\n",
      "Author: eshadow\n",
      "\n",
      "None\n",
      "\n",
      "https://i.redditmedia.com/TDzO3Eele0cLEPezrqliKUphx-9BH2MXnF9mpTTxnIs.jpg?fit=crop&crop=faces%2Centropy&arh=2&w=1080&s=598a364506f4e9e1a09dade494d53ed6\n",
      "\n",
      "https://reddit.com/r/japanpics/comments/5pkhzk/my_japan_trip_osaka_kyoto_nagoya_tokyo_oc/\n",
      "\n",
      "---\n",
      "\n",
      "Title: the SOHO building in Aomi, Tokyo [OC] [4269x2846]\n",
      "\n",
      "Author: MrPhotog\n",
      "\n",
      "None\n",
      "\n",
      "https://i.redditmedia.com/Be-wt6ELXt5M7b1nvvNnsMwxmlur7JXHeVzkGTP135I.jpg?fit=crop&crop=faces%2Centropy&arh=2&w=1080&s=2c5eb54d35e10ca6b30cb8fc87d95ab6\n",
      "\n",
      "https://reddit.com/r/japanpics/comments/5pgosk/the_soho_building_in_aomi_tokyo_oc_4269x2846/\n",
      "\n",
      "---\n",
      "\n",
      "Title: Street band in the early 80s performing in Japan.\n",
      "\n",
      "Author: profbecker\n",
      "\n",
      "None\n",
      "\n",
      "https://i.redditmedia.com/sua8dVSmVWqfxXpDRFV6m4H0qXMH9H0z3XquTjJRgxk.jpg?fit=crop&crop=faces%2Centropy&arh=2&w=1080&s=8704bd995b12fcc3e289dbd859435eff\n",
      "\n",
      "https://reddit.com/r/japanpics/comments/5pddtf/street_band_in_the_early_80s_performing_in_japan/\n",
      "\n",
      "---\n",
      "\n",
      "Title: Nagabeta Undersea Road in Kyushu / 長部田海床路 [2048x1365][OC]\n",
      "\n",
      "Author: chrisluckhardt\n",
      "\n",
      "None\n",
      "\n",
      "https://i.redditmedia.com/_zLDaKIIZFcKTlM8BAmbtQH-bzM4rfe4Jmoak0N4Uqo.jpg?fit=crop&crop=faces%2Centropy&arh=2&w=960&s=5502d0d1b2d6e1adaf4bb95af757b05e\n",
      "\n",
      "https://reddit.com/r/japanpics/comments/5pao3w/nagabeta_undersea_road_in_kyushu_長部田海床路/\n",
      "\n",
      "---\n",
      "\n",
      "Title: Rainbow Bridge in Tokyo viewed from Odaiba [OC] [5178x3454]\n",
      "\n",
      "Author: gmwdim\n",
      "\n",
      "None\n",
      "\n",
      "https://i.redditmedia.com/60kNyJWFlMl7Mhu6wqaSiB54VA0QP9PD1m97epTyGhc.jpg?fit=crop&crop=faces%2Centropy&arh=2&w=1080&s=70391af48cf6038d512d98e00fa79d25\n",
      "\n",
      "https://reddit.com/r/japanpics/comments/5pfj69/rainbow_bridge_in_tokyo_viewed_from_odaiba_oc/\n",
      "\n",
      "---\n",
      "\n",
      "Title: Was given 9+ Ektachrome slide carousels of 1970s/1980s Japan. A lot has changed. Would people be interested in seeing these?\n",
      "\n",
      "Author: profbecker\n",
      "\n",
      "None\n",
      "\n",
      "https://i.redditmedia.com/b2xOk-2Rz79EUrtDeEV3yqm-Og6Z1AQVdCZ0GWm38Dc.jpg?fit=crop&crop=faces%2Centropy&arh=2&w=1080&s=14c1491fdc8419666e9ff8819a1b3554\n",
      "\n",
      "https://reddit.com/r/japanpics/comments/5p87zj/was_given_9_ektachrome_slide_carousels_of/\n",
      "\n",
      "---\n",
      "\n",
      "Title: Sakura on the Kyū-Yodo river, Osaka 2014 [OC 3872x2592]\n",
      "\n",
      "Author: oosuteraria-jin\n",
      "\n",
      "None\n",
      "\n",
      "https://i.redditmedia.com/led88TzcvzNTAP60oSs8VDsVGyW3QK7ziLoNHU5INQc.jpg?fit=crop&crop=faces%2Centropy&arh=2&w=1080&s=12cbb26b0ae53c2fefc9089e51639563\n",
      "\n",
      "https://reddit.com/r/japanpics/comments/5p92ek/sakura_on_the_kyūyodo_river_osaka_2014_oc/\n",
      "\n",
      "---\n",
      "\n"
     ]
    }
   ],
   "source": [
    "subreddit = r.subreddit('japanpics')\n",
    "for submission in subreddit.hot(limit=20):\n",
    "    if submission.stickied:\n",
    "        continue\n",
    "        \n",
    "    print('Title:', submission.title)\n",
    "    print()\n",
    "    print('Author:', submission.author)\n",
    "    print()\n",
    "    print(submission.selftext_html)\n",
    "    print()\n",
    "    \n",
    "    props = vars(submission)\n",
    "    preview = props.get('preview')\n",
    "    \n",
    "    if preview:\n",
    "        print(preview['images'][-1]['resolutions'][-1]['url'])\n",
    "    \n",
    "    print()\n",
    "    print('https://reddit.com{}'.format(submission.permalink))\n",
    "    print()\n",
    "    \n",
    "    print('---')\n",
    "    print()\n",
    "    \n",
    "#     print(submission.preview)\n",
    "    \n",
    "#     if submission.preview. and submission.preview['images']:\n",
    "#         print(submission.preview['images'][-1])\n",
    "    \n",
    "#     pprint(vars(submission))"
   ]
  },
  {
   "cell_type": "code",
   "execution_count": 175,
   "metadata": {
    "collapsed": false
   },
   "outputs": [
    {
     "data": {
      "text/plain": [
       "'A subreddit for photos of beautiful Japan!\\n\\nMember of the /r/NationalPhotoSubs network.'"
      ]
     },
     "execution_count": 175,
     "metadata": {},
     "output_type": "execute_result"
    }
   ],
   "source": [
    "subreddit.public_description"
   ]
  },
  {
   "cell_type": "code",
   "execution_count": null,
   "metadata": {
    "collapsed": true
   },
   "outputs": [],
   "source": []
  }
 ],
 "metadata": {
  "anaconda-cloud": {},
  "kernelspec": {
   "display_name": "Python [default]",
   "language": "python",
   "name": "python3"
  },
  "language_info": {
   "codemirror_mode": {
    "name": "ipython",
    "version": 3
   },
   "file_extension": ".py",
   "mimetype": "text/x-python",
   "name": "python",
   "nbconvert_exporter": "python",
   "pygments_lexer": "ipython3",
   "version": "3.5.2"
  }
 },
 "nbformat": 4,
 "nbformat_minor": 1
}
