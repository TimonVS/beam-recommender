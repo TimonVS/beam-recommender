{
 "cells": [
  {
   "cell_type": "code",
   "execution_count": 1,
   "metadata": {
    "collapsed": true
   },
   "outputs": [],
   "source": [
    "%load_ext autoreload\n",
    "%autoreload 2"
   ]
  },
  {
   "cell_type": "code",
   "execution_count": 2,
   "metadata": {
    "collapsed": true
   },
   "outputs": [],
   "source": [
    "# Change working directory to root of project\n",
    "import os\n",
    "os.chdir('..')"
   ]
  },
  {
   "cell_type": "code",
   "execution_count": 53,
   "metadata": {
    "collapsed": false
   },
   "outputs": [],
   "source": [
    "import os\n",
    "from datetime import datetime\n",
    "import glob\n",
    "\n",
    "from lightfm import LightFM\n",
    "from lightfm.evaluation import auc_score, precision_at_k\n",
    "import pandas as pd\n",
    "import praw\n",
    "import numpy as np\n",
    "from dateutil.relativedelta import relativedelta\n",
    "\n",
    "from beam_recommender.recommender import Recommender\n",
    "import beam_recommender.helpers as h\n",
    "import beam_recommender.config as config\n",
    "from beam_recommender.models.beam_interactions import BeamInteractions"
   ]
  },
  {
   "cell_type": "code",
   "execution_count": 68,
   "metadata": {
    "collapsed": true
   },
   "outputs": [],
   "source": [
    "r = praw.Reddit(client_id=config.REDDIT_CLIENT_ID,\n",
    "                client_secret=config.REDDIT_CLIENT_SECRET,\n",
    "                user_agent=config.REDDIT_USER_AGENT)"
   ]
  },
  {
   "cell_type": "code",
   "execution_count": 69,
   "metadata": {
    "collapsed": true
   },
   "outputs": [],
   "source": [
    "beam_interactions = BeamInteractions()"
   ]
  },
  {
   "cell_type": "code",
   "execution_count": 70,
   "metadata": {
    "collapsed": false
   },
   "outputs": [],
   "source": [
    "ratings_df = beam_interactions.get_interactions_with_weights()"
   ]
  },
  {
   "cell_type": "code",
   "execution_count": 71,
   "metadata": {
    "collapsed": false
   },
   "outputs": [],
   "source": [
    "recommender = Recommender(ratings_df)"
   ]
  },
  {
   "cell_type": "code",
   "execution_count": 72,
   "metadata": {
    "collapsed": false
   },
   "outputs": [],
   "source": [
    "recommender.train()"
   ]
  },
  {
   "cell_type": "code",
   "execution_count": 73,
   "metadata": {
    "collapsed": false
   },
   "outputs": [
    {
     "data": {
      "text/plain": [
       "[['iphone',\n",
       "  'apolloapp',\n",
       "  'mac',\n",
       "  'BuyItForLife',\n",
       "  'nottheonion',\n",
       "  'wow',\n",
       "  '4chan',\n",
       "  'TumblrInAction',\n",
       "  'LiverpoolFC',\n",
       "  'rickandmorty',\n",
       "  'programming',\n",
       "  'Muse',\n",
       "  'CitiesSkylines',\n",
       "  'HillaryForPrison',\n",
       "  'iOSBeta',\n",
       "  'CringeAnarchy',\n",
       "  'zelda',\n",
       "  'interestingasfuck',\n",
       "  'PS4',\n",
       "  'iOSProgramming']]"
      ]
     },
     "execution_count": 73,
     "metadata": {},
     "output_type": "execute_result"
    }
   ],
   "source": [
    "recommender.recommend(['timonvs'])"
   ]
  },
  {
   "cell_type": "code",
   "execution_count": 237,
   "metadata": {
    "collapsed": false
   },
   "outputs": [
    {
     "data": {
      "text/plain": [
       "[Subreddit(display_name='gaming'),\n",
       " Subreddit(display_name='pics'),\n",
       " Subreddit(display_name='Python'),\n",
       " Subreddit(display_name='worldnews'),\n",
       " Subreddit(display_name='technology'),\n",
       " Subreddit(display_name='videos'),\n",
       " Subreddit(display_name='apple'),\n",
       " Subreddit(display_name='AskReddit'),\n",
       " Subreddit(display_name='web_design'),\n",
       " Subreddit(display_name='aww'),\n",
       " Subreddit(display_name='anime'),\n",
       " Subreddit(display_name='javascript'),\n",
       " Subreddit(display_name='funny'),\n",
       " Subreddit(display_name='news'),\n",
       " Subreddit(display_name='movies'),\n",
       " Subreddit(display_name='bestof'),\n",
       " Subreddit(display_name='books'),\n",
       " Subreddit(display_name='food'),\n",
       " Subreddit(display_name='recipes'),\n",
       " Subreddit(display_name='WTF'),\n",
       " Subreddit(display_name='television'),\n",
       " Subreddit(display_name='Design'),\n",
       " Subreddit(display_name='aws'),\n",
       " Subreddit(display_name='self'),\n",
       " Subreddit(display_name='dating'),\n",
       " Subreddit(display_name='nintendo'),\n",
       " Subreddit(display_name='seduction'),\n",
       " Subreddit(display_name='relationships'),\n",
       " Subreddit(display_name='nostalgia'),\n",
       " Subreddit(display_name='confession'),\n",
       " Subreddit(display_name='netflix'),\n",
       " Subreddit(display_name='todayilearned'),\n",
       " Subreddit(display_name='depression'),\n",
       " Subreddit(display_name='webdev'),\n",
       " Subreddit(display_name='gifs'),\n",
       " Subreddit(display_name='hackintosh'),\n",
       " Subreddit(display_name='GameDeals'),\n",
       " Subreddit(display_name='IAmA'),\n",
       " Subreddit(display_name='announcements'),\n",
       " Subreddit(display_name='minimalism'),\n",
       " Subreddit(display_name='copypasta'),\n",
       " Subreddit(display_name='windowsphone'),\n",
       " Subreddit(display_name='learnpython'),\n",
       " Subreddit(display_name='datasets'),\n",
       " Subreddit(display_name='creepy'),\n",
       " Subreddit(display_name='golang'),\n",
       " Subreddit(display_name='node'),\n",
       " Subreddit(display_name='baconit'),\n",
       " Subreddit(display_name='AnimalCrossing'),\n",
       " Subreddit(display_name='3DS'),\n",
       " Subreddit(display_name='niceguys'),\n",
       " Subreddit(display_name='loseit'),\n",
       " Subreddit(display_name='Chargers'),\n",
       " Subreddit(display_name='dating_advice'),\n",
       " Subreddit(display_name='LifeProTips'),\n",
       " Subreddit(display_name='meirl'),\n",
       " Subreddit(display_name='AdviceAnimals'),\n",
       " Subreddit(display_name='CrappyDesign'),\n",
       " Subreddit(display_name='EarthPorn'),\n",
       " Subreddit(display_name='Terraria'),\n",
       " Subreddit(display_name='explainlikeimfive'),\n",
       " Subreddit(display_name='datascience'),\n",
       " Subreddit(display_name='DeadBedrooms'),\n",
       " Subreddit(display_name='ProgrammerHumor'),\n",
       " Subreddit(display_name='ShittyLifeProTips'),\n",
       " Subreddit(display_name='dataisbeautiful'),\n",
       " Subreddit(display_name='eFreebies'),\n",
       " Subreddit(display_name='starbound'),\n",
       " Subreddit(display_name='tifu'),\n",
       " Subreddit(display_name='programminghorror'),\n",
       " Subreddit(display_name='watchpeopledie'),\n",
       " Subreddit(display_name='Overwatch'),\n",
       " Subreddit(display_name='trashy'),\n",
       " Subreddit(display_name='angularjs'),\n",
       " Subreddit(display_name='eu4'),\n",
       " Subreddit(display_name='me_irl'),\n",
       " Subreddit(display_name='WPLockscreens'),\n",
       " Subreddit(display_name='acturnips'),\n",
       " Subreddit(display_name='EatCheapAndHealthy'),\n",
       " Subreddit(display_name='fantasylife'),\n",
       " Subreddit(display_name='Unexpected'),\n",
       " Subreddit(display_name='Tinder'),\n",
       " Subreddit(display_name='AnimalsBeingJerks'),\n",
       " Subreddit(display_name='elm'),\n",
       " Subreddit(display_name='xboxone'),\n",
       " Subreddit(display_name='ACQR'),\n",
       " Subreddit(display_name='bigquery'),\n",
       " Subreddit(display_name='recommenders'),\n",
       " Subreddit(display_name='freegamedeals'),\n",
       " Subreddit(display_name='SandersForPresident'),\n",
       " Subreddit(display_name='reactjs'),\n",
       " Subreddit(display_name='thenetherlands'),\n",
       " Subreddit(display_name='FreeGameFindings'),\n",
       " Subreddit(display_name='tomodachilife'),\n",
       " Subreddit(display_name='BlackPeopleTwitter'),\n",
       " Subreddit(display_name='beamreddit'),\n",
       " Subreddit(display_name='Comet'),\n",
       " Subreddit(display_name='madlads'),\n",
       " Subreddit(display_name='intentionalswastika'),\n",
       " Subreddit(display_name='WayOfTheBern')]"
      ]
     },
     "execution_count": 237,
     "metadata": {},
     "output_type": "execute_result"
    }
   ],
   "source": [
    "list(r.info(ratings_df[ratings_df['user'] == 'timonvs'].query('last_interaction > @SINCE_LAST_WEEK')['subreddit_id'].tolist()))"
   ]
  },
  {
   "cell_type": "code",
   "execution_count": 250,
   "metadata": {
    "collapsed": false
   },
   "outputs": [
    {
     "data": {
      "text/plain": [
       "0        1\n",
       "1        2\n",
       "2        1\n",
       "3        2\n",
       "4        1\n",
       "5        2\n",
       "6        1\n",
       "7        1\n",
       "8        1\n",
       "9        1\n",
       "10       2\n",
       "11       2\n",
       "12       1\n",
       "13       1\n",
       "14       1\n",
       "15       1\n",
       "16       1\n",
       "17       1\n",
       "18       1\n",
       "19       1\n",
       "20       1\n",
       "21       1\n",
       "22       1\n",
       "23       1\n",
       "24       1\n",
       "25       1\n",
       "26       1\n",
       "27       1\n",
       "28       1\n",
       "29       1\n",
       "        ..\n",
       "12679    2\n",
       "12680    2\n",
       "12681    2\n",
       "12682    1\n",
       "12683    2\n",
       "12684    1\n",
       "12685    1\n",
       "12686    1\n",
       "12687    1\n",
       "12688    1\n",
       "12689    1\n",
       "12690    2\n",
       "12691    1\n",
       "12692    2\n",
       "12693    1\n",
       "12694    1\n",
       "12695    1\n",
       "12696    1\n",
       "12697    1\n",
       "12698    1\n",
       "12699    2\n",
       "12700    1\n",
       "12701    1\n",
       "12702    1\n",
       "12703    1\n",
       "12704    1\n",
       "12705    1\n",
       "12706    1\n",
       "12707    1\n",
       "12708    1\n",
       "dtype: int64"
      ]
     },
     "execution_count": 250,
     "metadata": {},
     "output_type": "execute_result"
    }
   ],
   "source": [
    "ratings_df.apply(lambda x: 2 if (x['last_interaction'] > SINCE_LAST_WEEK and x['count'] > 4) else 1, axis=1)"
   ]
  },
  {
   "cell_type": "code",
   "execution_count": null,
   "metadata": {
    "collapsed": true
   },
   "outputs": [],
   "source": []
  }
 ],
 "metadata": {
  "anaconda-cloud": {},
  "kernelspec": {
   "display_name": "Python [default]",
   "language": "python",
   "name": "python3"
  },
  "language_info": {
   "codemirror_mode": {
    "name": "ipython",
    "version": 3
   },
   "file_extension": ".py",
   "mimetype": "text/x-python",
   "name": "python",
   "nbconvert_exporter": "python",
   "pygments_lexer": "ipython3",
   "version": "3.5.2"
  }
 },
 "nbformat": 4,
 "nbformat_minor": 1
}
